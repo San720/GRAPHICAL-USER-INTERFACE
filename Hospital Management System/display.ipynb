{
 "cells": [
  {
   "cell_type": "code",
   "execution_count": 1,
   "metadata": {},
   "outputs": [
    {
     "name": "stderr",
     "output_type": "stream",
     "text": [
      "Exception in Tkinter callback\n",
      "Traceback (most recent call last):\n",
      "  File \"C:\\Users\\sanka\\anaconda3\\lib\\tkinter\\__init__.py\", line 1883, in __call__\n",
      "    return self.func(*args)\n",
      "  File \"<ipython-input-1-ec600a7d946f>\", line 47, in func\n",
      "    engine.setProperty('voice', voice[2].id)\n",
      "IndexError: list index out of range\n"
     ]
    }
   ],
   "source": [
    "from tkinter import *\n",
    "import sqlite3\n",
    "import pyttsx3\n",
    "\n",
    "conn = sqlite3.connect('database.db')\n",
    "c = conn.cursor()\n",
    "\n",
    "number = []\n",
    "patients = []\n",
    "\n",
    "sql = \"SELECT * FROM appointments\"\n",
    "res = c.execute(sql)\n",
    "\n",
    "for r in res:\n",
    "    ids = r[0]\n",
    "    name = r[1]\n",
    "\n",
    "    number.append(ids)\n",
    "    patients.append(name)\n",
    "\n",
    "\n",
    "class Application:\n",
    "    def __init__(self, master):\n",
    "        self.master = master\n",
    "\n",
    "\n",
    "        self.x =0\n",
    "\n",
    "        self.heading = Label(master, text = \"APPOINTMENTS\", font =('arial 50 bold'), fg = 'red')\n",
    "        self.heading.place(x = 300, y = 0)\n",
    "\n",
    "        self.change = Button(master, text = \"New Patient\", width = 25, height = 2, bg = 'steelblue', command = self.func)\n",
    "        self.change.place(x =420, y =600 )\n",
    "\n",
    "        self.n =Label(master, text = \"\", font =('arial 75 bold'))\n",
    "        self.n.place(x =400, y= 150)\n",
    "\n",
    "        self.pname = Label(master, text = \"\", font =('arial 80 bold'))\n",
    "        self.pname.place(x =400, y = 400)\n",
    "\n",
    "    def func(self):\n",
    "        self.n.config(text = str(number[self.x]))\n",
    "        self.pname.config(text = str(patients[self.x]))\n",
    "        engine = pyttsx3.init()\n",
    "        voice = engine.getProperty('voices')\n",
    "        #for voice in voices:\n",
    "        engine.setProperty('voice', voice[2].id)\n",
    "        rate = engine.getProperty('rate')\n",
    "        engine.setProperty('rate', rate-50)\n",
    "        engine.say(\"Patient number \" + str(number[self.x]) )\n",
    "        engine.say(str(patients[self.x]) )\n",
    "        engine.runAndWait()\n",
    "        self.x = self.x + 1\n",
    "\n",
    "\n",
    "root = Tk()\n",
    "b = Application(root)\n",
    "root.geometry(\"1200x720+0+0\")\n",
    "root.resizable(False, False)\n",
    "root.mainloop()"
   ]
  },
  {
   "cell_type": "code",
   "execution_count": null,
   "metadata": {},
   "outputs": [],
   "source": []
  }
 ],
 "metadata": {
  "kernelspec": {
   "display_name": "Python 3",
   "language": "python",
   "name": "python3"
  },
  "language_info": {
   "codemirror_mode": {
    "name": "ipython",
    "version": 3
   },
   "file_extension": ".py",
   "mimetype": "text/x-python",
   "name": "python",
   "nbconvert_exporter": "python",
   "pygments_lexer": "ipython3",
   "version": "3.8.5"
  }
 },
 "nbformat": 4,
 "nbformat_minor": 4
}
