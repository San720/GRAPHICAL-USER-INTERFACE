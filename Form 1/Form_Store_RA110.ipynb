{
 "cells": [
  {
   "cell_type": "code",
   "execution_count": null,
   "metadata": {},
   "outputs": [],
   "source": [
    "# from tkinter import *\n",
    "from tkinter import ttk\n",
    "import sqlite3 \n",
    "window = Tk()\n",
    "window.title(\"INPUT\")\n",
    "window.geometry('900x800')\n",
    "window.configure();\n",
    "window.resizable(False,False)\n",
    "\n",
    "#sql\n",
    "ra110 = sqlite3.connect('Form_Store_Set3_RA110.db')\n",
    "c = ra110.cursor()\n",
    "c.execute(\"\"\"CREATE TABLE Data110(\n",
    "          seat_cap110 integer, \n",
    "          plate_num110 interger, \n",
    "          other110 text,\n",
    "          letters110 text, \n",
    "          owner_name110 text, \n",
    "          tel_num110 integer, \n",
    "          cus_num110 integer, \n",
    "          address110 text, \n",
    "          city110 text, \n",
    "          state110 text, \n",
    "          zipcode110 integer, \n",
    "          email_address110 text, \n",
    "          co_owner_name110 text, \n",
    "          co_tel_num110 integer, \n",
    "          co_cus_num110 integer, \n",
    "          co_address110 text, \n",
    "          co_city110 text, \n",
    "          co_state110 text,\n",
    "          co_zipcode110 integer, \n",
    "          co_email_address110 text, \n",
    "          add_town110 text, \n",
    "          add_new_date110 text, \n",
    "          add_address110 text, \n",
    "          add_city110 text, \n",
    "          add_state110 text, \n",
    "          add_zipcode110 integer\n",
    "      \n",
    "        \n",
    "  )\"\"\")\n",
    "\n",
    "\n",
    "ra110.commit()\n",
    "ra110.close()\n",
    "#/sql\n",
    "\n",
    "\n",
    "window.mainloop()"
   ]
  },
  {
   "cell_type": "code",
   "execution_count": null,
   "metadata": {},
   "outputs": [],
   "source": []
  }
 ],
 "metadata": {
  "kernelspec": {
   "display_name": "Python 3",
   "language": "python",
   "name": "python3"
  },
  "language_info": {
   "codemirror_mode": {
    "name": "ipython",
    "version": 3
   },
   "file_extension": ".py",
   "mimetype": "text/x-python",
   "name": "python",
   "nbconvert_exporter": "python",
   "pygments_lexer": "ipython3",
   "version": "3.8.5"
  }
 },
 "nbformat": 4,
 "nbformat_minor": 4
}
